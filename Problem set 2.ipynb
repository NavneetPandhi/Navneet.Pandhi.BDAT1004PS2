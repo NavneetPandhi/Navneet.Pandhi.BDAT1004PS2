{
 "cells": [
  {
   "cell_type": "code",
   "execution_count": 51,
   "id": "840a3519",
   "metadata": {},
   "outputs": [
    {
     "data": {
      "text/plain": [
       "6"
      ]
     },
     "execution_count": 51,
     "metadata": {},
     "output_type": "execute_result"
    }
   ],
   "source": [
    "#Question 1\n",
    "#What value is displayed when the last expression (a) is evaluated? Explain your\n",
    "#answer by indicating what happens in every executed statement./*\n",
    "\n",
    "\n",
    "\n",
    "a = 0  # Initially, the value of 'a' is 0\n",
    "\n",
    "def b():\n",
    "    global a  # Access the global variable 'a'\n",
    "    a = c(a)  # Call function 'c' with the current value of 'a' and assign the result back to 'a'\n",
    "\n",
    "def c(a):\n",
    "    return a + 2  # Increment the value of 'a' by 2 and return the result\n",
    "\n",
    "# Execution starts here\n",
    "# The first call to function 'b'\n",
    "b()  # The current value of 'a' is 0\n",
    "# Inside 'b', the global variable 'a' is accessed\n",
    "# Call function 'c' with the current value of 'a' (0)\n",
    "# In 'c', the value of 'a' is incremented by 2, resulting in 2\n",
    "# The updated value of 'a' (2) is assigned back to the global variable 'a'\n",
    "# The first call to 'b' completes\n",
    "\n",
    "# The second call to function 'b'\n",
    "b()  # The current value of 'a' is 2\n",
    "# Inside 'b', the global variable 'a' is accessed\n",
    "# Call function 'c' with the current value of 'a' (2)\n",
    "# In 'c', the value of 'a' is incremented by 2, resulting in 4\n",
    "# The updated value of 'a' (4) is assigned back to the global variable 'a'\n",
    "# The second call to 'b' completes\n",
    "\n",
    "# The third call to function 'b'\n",
    "b()  # The current value of 'a' is 4\n",
    "# Inside 'b', the global variable 'a' is accessed\n",
    "# Call function 'c' with the current value of 'a' (4)\n",
    "# In 'c', the value of 'a' is incremented by 2, resulting in 6\n",
    "# The updated value of 'a' (6) is assigned back to the global variable 'a'\n",
    "# The third call to 'b' completes\n",
    "\n",
    "a  # Evaluate and display the value of 'a'\n",
    "\n",
    "# Output: 6\n",
    "\n"
   ]
  },
  {
   "cell_type": "code",
   "execution_count": 14,
   "id": "551288f6",
   "metadata": {},
   "outputs": [
    {
     "name": "stdout",
     "output_type": "stream",
     "text": [
      "Length of file C:/Users/navne/OneDrive/Desktop/assignment inclass 2.txt is 459\n",
      "File C:/Users/navne/OneDrive/Desktop/assignment inclass 1.txt not found.\n"
     ]
    }
   ],
   "source": [
    "def fileLength(filename):\n",
    "    try:\n",
    "        infile = open(filename, 'r')  \n",
    "        content = infile.read()  \n",
    "        infile.close()  \n",
    "        print(\"Length of file\", filename, \"is\", len(content))\n",
    "    except FileNotFoundError:\n",
    "        print(\"File\", filename, \"not found.\")\n",
    "\n",
    "\n",
    "fileLength('C:/Users/navne/OneDrive/Desktop/assignment inclass 2.txt') \n",
    "fileLength('C:/Users/navne/OneDrive/Desktop/assignment inclass 1.txt')  \n",
    "\n",
    "\n"
   ]
  },
  {
   "cell_type": "code",
   "execution_count": 6,
   "id": "7294800f",
   "metadata": {},
   "outputs": [
    {
     "name": "stdout",
     "output_type": "stream",
     "text": [
      "I am a Kangaroo located at coordinates (0,0)\n",
      "['doll', 'firetruck', 'kitten']\n",
      "I am a Kangaroo located at coordinates (3,0)\n"
     ]
    }
   ],
   "source": [
    "class Marsupial:\n",
    "    def __init__(self):\n",
    "        self.pouch = [] \n",
    "    def put_in_pouch(self, item):\n",
    "        self.pouch.append(item)  \n",
    "\n",
    "    def pouch_contents(self):\n",
    "        return self.pouch  \n",
    "\n",
    "\n",
    "class Kangaroo(Marsupial):\n",
    "    def __init__(self, x, y):\n",
    "        super().__init__()  \n",
    "        self.x = x  \n",
    "        self.y = y  \n",
    "\n",
    "    def jump(self, dx, dy):\n",
    "        self.x += dx  \n",
    "        self.y += dy  \n",
    "\n",
    "    def __str__(self):\n",
    "        return f\"I am a Kangaroo located at coordinates ({self.x},{self.y})\"\n",
    "\n",
    "\n",
    "\n",
    "k = Kangaroo(0, 0)  \n",
    "print(k)  \n",
    "\n",
    "k.put_in_pouch('doll')  \n",
    "k.put_in_pouch('firetruck') \n",
    "k.put_in_pouch('kitten')  \n",
    "print(k.pouch_contents())  \n",
    "\n",
    "k.jump(1, 0)  \n",
    "k.jump(1, 0)  \n",
    "k.jump(1, 0)  \n",
    "print(k)  \n",
    "\n",
    "\n"
   ]
  },
  {
   "cell_type": "code",
   "execution_count": 16,
   "id": "70cf44bb",
   "metadata": {},
   "outputs": [
    {
     "name": "stdout",
     "output_type": "stream",
     "text": [
      "1\n",
      "10\n",
      "5\n",
      "16\n",
      "8\n",
      "4\n",
      "2\n",
      "1\n"
     ]
    }
   ],
   "source": [
    "def collatz(x):\n",
    "    print(x)\n",
    "    if x == 1:  \n",
    "        return\n",
    "    elif x % 2 == 0:  \n",
    "        collatz(x // 2)  \n",
    "    else:  \n",
    "        collatz(3 * x + 1)  \n",
    "\n",
    "\n",
    "collatz(1)\n",
    "collatz(10)\n"
   ]
  },
  {
   "cell_type": "code",
   "execution_count": 18,
   "id": "2a5b070e",
   "metadata": {},
   "outputs": [
    {
     "name": "stdout",
     "output_type": "stream",
     "text": [
      "\n",
      "0\n",
      "1\n",
      "11\n",
      "1001"
     ]
    }
   ],
   "source": [
    "def binary(n):\n",
    "    if n == 0 or n == 1:  \n",
    "        print(n, end='')\n",
    "    else:\n",
    "        binary(n // 2)  \n",
    "        print(n % 2, end='')\n",
    "\n",
    "\n",
    "print()  \n",
    "binary(0)\n",
    "print()  \n",
    "binary(1)\n",
    "print()  \n",
    "binary(3)\n",
    "print()  \n",
    "binary(9)\n"
   ]
  },
  {
   "cell_type": "code",
   "execution_count": 24,
   "id": "51549983",
   "metadata": {},
   "outputs": [
    {
     "name": "stdout",
     "output_type": "stream",
     "text": [
      " Principles\n"
     ]
    }
   ],
   "source": [
    "from html.parser import HTMLParser\n",
    "\n",
    "\n",
    "class HeadingParser(HTMLParser):\n",
    "    def __init__(self):\n",
    "        super().__init__()\n",
    "        self.headings = []\n",
    "        self.indentation = 0\n",
    "\n",
    "    def handle_starttag(self, tag, attrs):\n",
    "        if tag.startswith('h') and len(tag) == 2:\n",
    "            self.indentation = int(tag[1:]) - 1\n",
    "\n",
    "    def handle_endtag(self, tag):\n",
    "        if tag.startswith('h'):\n",
    "            self.indentation = 0\n",
    "\n",
    "    def handle_data(self, data):\n",
    "        if data.strip() and self.indentation > 0:\n",
    "            heading = ' ' * self.indentation + data.strip()\n",
    "            self.headings.append(heading)\n",
    "\n",
    "    def print_headings(self):\n",
    "        for heading in self.headings:\n",
    "            print(heading)\n",
    "\n",
    "\n",
    "file=open('C:/Users/navne/OneDrive/Desktop/assignment2/w3c.html')\n",
    "html_content = file.read()\n",
    "\n",
    "parser = HeadingParser()\n",
    "parser.feed(html_content)\n",
    "parser.print_headings()\n"
   ]
  },
  {
   "cell_type": "code",
   "execution_count": 25,
   "id": "16815c15",
   "metadata": {},
   "outputs": [
    {
     "name": "stdout",
     "output_type": "stream",
     "text": [
      "http://reed.cs.depaul.edu/lperkovic/csc242/test1.html\n"
     ]
    }
   ],
   "source": [
    "#Question 7\n",
    "#Implement recursive function webdir() that takes as input: a URL (as a string) and\n",
    "#non-negative integers depth and indent. Your function should visit every web\n",
    "#page reachable from the starting URL web page in depth clicks or less, and print\n",
    "#each web page's URL. As shown below, indentation, specified by indent, should\n",
    "#be used to indicate the depth of a URL.\n",
    "\n",
    "\n",
    "\n",
    "import requests\n",
    "from bs4 import BeautifulSoup\n",
    "\n",
    "\n",
    "def webdir(url, depth, indent):\n",
    "    if depth < 0:\n",
    "        return\n",
    "\n",
    "    response = requests.get(url)\n",
    "    soup = BeautifulSoup(response.content, 'html.parser')\n",
    "    print(' ' * indent + url)\n",
    "\n",
    "    if depth == 0:\n",
    "        return\n",
    "\n",
    "    links = soup.find_all('a')\n",
    "    visited = set()  \n",
    "\n",
    "    for link in links:\n",
    "        href = link.get('href')\n",
    "        if href and href.startswith('http') and href not in visited:\n",
    "            visited.add(href)\n",
    "            webdir(href, depth - 1, indent + 4)\n",
    "\n",
    "\n",
    "\n",
    "webdir('http://reed.cs.depaul.edu/lperkovic/csc242/test1.html', depth=2, indent=0)\n"
   ]
  },
  {
   "cell_type": "code",
   "execution_count": 32,
   "id": "fb1977a1",
   "metadata": {},
   "outputs": [
    {
     "name": "stdout",
     "output_type": "stream",
     "text": [
      "City       Country         Season     Temperature  Rainfall  \n",
      "Mumbai     India           Winter     24.8         5.9       \n",
      "Mumbai     India           Spring     28.4         16.2      \n",
      "Mumbai     India           Summer     27.9         1549.4    \n",
      "Mumbai     India           Fall       27.6         346.0     \n",
      "London     United Kingdom  Winter     4.2          207.7     \n",
      "London     United Kingdom  Spring     8.3          169.6     \n",
      "London     United Kingdom  Summer     15.7         157.0     \n",
      "London     United Kingdom  Fall       10.4         218.5     \n",
      "Cairo      Egypt           Winter     13.6         16.5      \n",
      "Cairo      Egypt           Spring     20.7         6.5       \n",
      "Cairo      Egypt           Summer     27.7         0.1       \n",
      "Cairo      Egypt           Fall       22.2         4.5       \n"
     ]
    }
   ],
   "source": [
    "import sqlite3\n",
    "\n",
    "# Connect to the SQLite database (creates a new database if it doesn't exist)\n",
    "conn = sqlite3.connect('mydatabase.db')\n",
    "\n",
    "# Create a cursor object to execute SQL queries\n",
    "cursor = conn.cursor()\n",
    "\n",
    "# Create a table\n",
    "cursor.execute('''CREATE TABLE IF NOT EXISTS weather (\n",
    "                    city TEXT,\n",
    "                    country TEXT,\n",
    "                    season TEXT,\n",
    "                    temperature REAL,\n",
    "                    rainfall REAL\n",
    "                )''')\n",
    "\n",
    "# Insert data into the table\n",
    "data = [\n",
    "    ('Mumbai', 'India', 'Winter', 24.8, 5.9),\n",
    "    ('Mumbai', 'India', 'Spring', 28.4, 16.2),\n",
    "    ('Mumbai', 'India', 'Summer', 27.9, 1549.4),\n",
    "    ('Mumbai', 'India', 'Fall', 27.6, 346.0),\n",
    "    ('London', 'United Kingdom', 'Winter', 4.2, 207.7),\n",
    "    ('London', 'United Kingdom', 'Spring', 8.3, 169.6),\n",
    "    ('London', 'United Kingdom', 'Summer', 15.7, 157.0),\n",
    "    ('London', 'United Kingdom', 'Fall', 10.4, 218.5),\n",
    "    ('Cairo', 'Egypt', 'Winter', 13.6, 16.5),\n",
    "    ('Cairo', 'Egypt', 'Spring', 20.7, 6.5),\n",
    "    ('Cairo', 'Egypt', 'Summer', 27.7, 0.1),\n",
    "    ('Cairo', 'Egypt', 'Fall', 22.2, 4.5)\n",
    "]\n",
    "\n",
    "cursor.executemany('INSERT INTO weather VALUES (?, ?, ?, ?, ?)', data)\n",
    "\n",
    "# Commit the changes to the database\n",
    "conn.commit()\n",
    "\n",
    "# Execute a SELECT query\n",
    "cursor.execute('SELECT * FROM weather')\n",
    "\n",
    "# Fetch all rows from the result set\n",
    "rows = cursor.fetchall()\n",
    "\n",
    "# Print the data in the table format\n",
    "print(\"{:<10} {:<15} {:<10} {:<12} {:<10}\".format('City', 'Country', 'Season', 'Temperature', 'Rainfall'))\n",
    "for row in rows:\n",
    "    print(\"{:<10} {:<15} {:<10} {:<12} {:<10}\".format(row[0], row[1], row[2], row[3], row[4]))\n",
    "\n",
    "# Close the cursor and connection\n",
    "cursor.close()\n",
    "conn.close()\n"
   ]
  },
  {
   "cell_type": "code",
   "execution_count": 35,
   "id": "1d71e5f2",
   "metadata": {},
   "outputs": [
    {
     "name": "stdout",
     "output_type": "stream",
     "text": [
      "Temperature Data:\n",
      "24.8\n",
      "28.4\n",
      "27.9\n",
      "27.6\n",
      "4.2\n",
      "8.3\n",
      "15.7\n",
      "10.4\n",
      "13.6\n",
      "20.7\n",
      "27.7\n",
      "22.2\n"
     ]
    }
   ],
   "source": [
    "conn = sqlite3.connect('mydatabase.db')\n",
    "cursor = conn.cursor()\n",
    "cursor.execute('SELECT Temperature FROM weather')\n",
    "temperature_data = cursor.fetchall()\n",
    "print(\"Temperature Data:\")\n",
    "for data in temperature_data:\n",
    "    print(data[0])"
   ]
  },
  {
   "cell_type": "code",
   "execution_count": 36,
   "id": "bbfc213d",
   "metadata": {},
   "outputs": [
    {
     "name": "stdout",
     "output_type": "stream",
     "text": [
      "Cities without repetition:\n",
      "Mumbai\n",
      "London\n",
      "Cairo\n"
     ]
    }
   ],
   "source": [
    "cursor.execute('SELECT DISTINCT City FROM Weather')\n",
    "cities = cursor.fetchall()\n",
    "print(\"Cities without repetition:\")\n",
    "for city in cities:\n",
    "    print(city[0])"
   ]
  },
  {
   "cell_type": "code",
   "execution_count": 37,
   "id": "1258dc94",
   "metadata": {},
   "outputs": [
    {
     "name": "stdout",
     "output_type": "stream",
     "text": [
      "Records for India:\n",
      "('Mumbai', 'India', 'Winter', 24.8, 5.9)\n",
      "('Mumbai', 'India', 'Spring', 28.4, 16.2)\n",
      "('Mumbai', 'India', 'Summer', 27.9, 1549.4)\n",
      "('Mumbai', 'India', 'Fall', 27.6, 346.0)\n"
     ]
    }
   ],
   "source": [
    "cursor.execute(\"SELECT * FROM Weather WHERE Country = 'India'\")\n",
    "india_records = cursor.fetchall()\n",
    "print(\"Records for India:\")\n",
    "for record in india_records:\n",
    "    print(record)"
   ]
  },
  {
   "cell_type": "code",
   "execution_count": 38,
   "id": "e5b84984",
   "metadata": {},
   "outputs": [
    {
     "name": "stdout",
     "output_type": "stream",
     "text": [
      "Fall Records:\n",
      "('Mumbai', 'India', 'Fall', 27.6, 346.0)\n",
      "('London', 'United Kingdom', 'Fall', 10.4, 218.5)\n",
      "('Cairo', 'Egypt', 'Fall', 22.2, 4.5)\n"
     ]
    }
   ],
   "source": [
    "cursor.execute(\"SELECT * FROM Weather WHERE Season = 'Fall'\")\n",
    "fall_records = cursor.fetchall()\n",
    "print(\"Fall Records:\")\n",
    "for record in fall_records:\n",
    "    print(record)"
   ]
  },
  {
   "cell_type": "code",
   "execution_count": 39,
   "id": "f841d912",
   "metadata": {},
   "outputs": [
    {
     "name": "stdout",
     "output_type": "stream",
     "text": [
      "Records for average rainfall between 200 and 400 millimeters:\n",
      "('Mumbai', 'India', 'Fall')\n",
      "('London', 'United Kingdom', 'Winter')\n",
      "('London', 'United Kingdom', 'Fall')\n"
     ]
    }
   ],
   "source": [
    "cursor.execute(\"SELECT City, Country, Season FROM Weather WHERE Rainfall BETWEEN 200 AND 400\")\n",
    "records_e = cursor.fetchall()\n",
    "print(\"Records for average rainfall between 200 and 400 millimeters:\")\n",
    "for record in records_e:\n",
    "    print(record)"
   ]
  },
  {
   "cell_type": "code",
   "execution_count": 40,
   "id": "b96c9686",
   "metadata": {},
   "outputs": [
    {
     "name": "stdout",
     "output_type": "stream",
     "text": [
      "Records for average Fall temperature above 20 degrees (in increasing temperature order):\n",
      "('Cairo', 'Egypt')\n",
      "('Mumbai', 'India')\n"
     ]
    }
   ],
   "source": [
    "cursor.execute(\"SELECT City, Country FROM Weather WHERE Season = 'Fall' AND Temperature > 20 ORDER BY Temperature ASC\")\n",
    "records_f = cursor.fetchall()\n",
    "print(\"Records for average Fall temperature above 20 degrees (in increasing temperature order):\")\n",
    "for record in records_f:\n",
    "    print(record)\n",
    "    "
   ]
  },
  {
   "cell_type": "code",
   "execution_count": 41,
   "id": "8457ba42",
   "metadata": {},
   "outputs": [
    {
     "name": "stdout",
     "output_type": "stream",
     "text": [
      "Total annual rainfall for Cairo: 27.6\n"
     ]
    }
   ],
   "source": [
    "cursor.execute(\"SELECT SUM(Rainfall) FROM Weather WHERE City = 'Cairo'\")\n",
    "total_rainfall_cairo = cursor.fetchone()[0]\n",
    "print(\"Total annual rainfall for Cairo:\", total_rainfall_cairo)"
   ]
  },
  {
   "cell_type": "code",
   "execution_count": 42,
   "id": "47729c4d",
   "metadata": {},
   "outputs": [
    {
     "name": "stdout",
     "output_type": "stream",
     "text": [
      "Total rainfall for each season:\n",
      "('Fall', 569.0)\n",
      "('Spring', 192.29999999999998)\n",
      "('Summer', 1706.5)\n",
      "('Winter', 230.1)\n"
     ]
    }
   ],
   "source": [
    "cursor.execute(\"SELECT Season, SUM(Rainfall) FROM Weather GROUP BY Season\")\n",
    "season_rainfall = cursor.fetchall()\n",
    "print(\"Total rainfall for each season:\")\n",
    "for record in season_rainfall:\n",
    "    print(record)"
   ]
  },
  {
   "cell_type": "markdown",
   "id": "3850d64a",
   "metadata": {},
   "source": [
    "Suppose list words is defined as follows:\n",
    ">>> words = ['The', 'quick', 'brown', 'fox', 'jumps', 'over',\n",
    "'the', 'lazy', 'dog']\n",
    "Write list comprehension expressions that use list words and generate the following\n",
    "lists:\n",
    "a) ['THE', 'QUICK', 'BROWN', 'FOX', 'JUMPS', 'OVER', 'THE',\n",
    "'LAZY', 'DOG']\n",
    "b) ['the', 'quick', 'brown', 'fox', 'jumps', 'over', 'the',\n",
    "'lazy', 'dog']\n",
    "c) [3, 5, 5, 3, 5, 4, 3, 4, 3] (the list of lengths of words in list\n",
    "words).\n",
    "d) [['THE', 'the', 3], ['QUICK', 'quick', 5], ['BROWN',\n",
    "'brown', 5], ['FOX', 'fox', 3], ['JUMPS', 'jumps', 5],\n",
    "['OVER', 'over', 4], ['THE', 'the', 3], ['LAZY', 'lazy',\n",
    "4], ['DOG', 'dog', 3]] (the list containing a list for every word of list\n",
    "words, where each list contains the word in uppercase and lowercase and the\n",
    "length of the word.)\n",
    "e) ['The', 'quick', 'brown', 'fox', 'jumps', 'over', 'the',\n",
    "'lazy', 'dog'] (the list of words in list words containing 4 or more\n",
    "characters.)"
   ]
  },
  {
   "cell_type": "code",
   "execution_count": 43,
   "id": "9a6e85c7",
   "metadata": {},
   "outputs": [],
   "source": [
    "words = ['The', 'quick', 'brown', 'fox', 'jumps', 'over',\n",
    "'the', 'lazy', 'dog']"
   ]
  },
  {
   "cell_type": "code",
   "execution_count": 45,
   "id": "494444b3",
   "metadata": {},
   "outputs": [
    {
     "name": "stdout",
     "output_type": "stream",
     "text": [
      "['THE', 'QUICK', 'BROWN', 'FOX', 'JUMPS', 'OVER', 'THE', 'LAZY', 'DOG']\n"
     ]
    }
   ],
   "source": [
    "words_a = [word.upper() for word in words]\n",
    "print(words_a)"
   ]
  },
  {
   "cell_type": "code",
   "execution_count": 46,
   "id": "191a025c",
   "metadata": {},
   "outputs": [
    {
     "name": "stdout",
     "output_type": "stream",
     "text": [
      "['the', 'quick', 'brown', 'fox', 'jumps', 'over', 'the', 'lazy', 'dog']\n"
     ]
    }
   ],
   "source": [
    "words_b = [word.lower() for word in words]\n",
    "print(words_b)"
   ]
  },
  {
   "cell_type": "code",
   "execution_count": 47,
   "id": "6066ffa2",
   "metadata": {},
   "outputs": [
    {
     "name": "stdout",
     "output_type": "stream",
     "text": [
      "[3, 5, 5, 3, 5, 4, 3, 4, 3]\n"
     ]
    }
   ],
   "source": [
    "words_c = [len(word) for word in words]\n",
    "print(words_c)"
   ]
  },
  {
   "cell_type": "code",
   "execution_count": 48,
   "id": "3d47efaf",
   "metadata": {},
   "outputs": [
    {
     "name": "stdout",
     "output_type": "stream",
     "text": [
      "[['THE', 'the', 3], ['QUICK', 'quick', 5], ['BROWN', 'brown', 5], ['FOX', 'fox', 3], ['JUMPS', 'jumps', 5], ['OVER', 'over', 4], ['THE', 'the', 3], ['LAZY', 'lazy', 4], ['DOG', 'dog', 3]]\n"
     ]
    }
   ],
   "source": [
    "words_d = [[word.upper(), word.lower(), len(word)] for word in words]\n",
    "print(words_d)"
   ]
  },
  {
   "cell_type": "code",
   "execution_count": 49,
   "id": "bda09e13",
   "metadata": {},
   "outputs": [
    {
     "name": "stdout",
     "output_type": "stream",
     "text": [
      "['quick', 'brown', 'jumps', 'over', 'lazy']\n"
     ]
    }
   ],
   "source": [
    "words_e = [word for word in words if len(word) >= 4]\n",
    "print(words_e)"
   ]
  },
  {
   "cell_type": "code",
   "execution_count": null,
   "id": "b802945b",
   "metadata": {},
   "outputs": [],
   "source": []
  }
 ],
 "metadata": {
  "kernelspec": {
   "display_name": "Python 3 (ipykernel)",
   "language": "python",
   "name": "python3"
  },
  "language_info": {
   "codemirror_mode": {
    "name": "ipython",
    "version": 3
   },
   "file_extension": ".py",
   "mimetype": "text/x-python",
   "name": "python",
   "nbconvert_exporter": "python",
   "pygments_lexer": "ipython3",
   "version": "3.10.9"
  }
 },
 "nbformat": 4,
 "nbformat_minor": 5
}
